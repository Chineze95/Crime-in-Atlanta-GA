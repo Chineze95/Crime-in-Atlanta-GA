{
 "cells": [
  {
   "cell_type": "code",
   "execution_count": null,
   "id": "3d2f3dbf",
   "metadata": {},
   "outputs": [],
   "source": [
    "# Dependencies and Setup\n",
    "import matplotlib.pyplot as plt\n",
    "import pandas as pd\n",
    "import scipy.stats as st\n",
    "import datetime as dt\n",
    "import numpy as np\n",
    "from scipy.stats import linregress\n",
    "\n",
    "# Assign Data File Locations\n",
    "cobra_09_path = \"data/COBRA-2009-2019.csv\"\n",
    "cobra_20_path = \"data/COBRA-2020.csv\"\n",
    "cobra_20_Old_path = \"data/COBRA-2020-Old.csv\"\n",
    "cobra_21_path = \"data/COBRA-2021.csv\"\n",
    "weather_data_path = \"data/weather_data.csv\"\n",
    "county_cases_path = \"data/county_cases.csv\"\n",
    "\n",
    "# Read the data files into dataframes\n",
    "cobra_09 = pd.read_csv(cobra_09_path, low_memory=False)\n",
    "cobra_20 = pd.read_csv(cobra_20_path)\n",
    "cobra_20_Old = pd.read_csv(cobra_20_Old_path)\n",
    "cobra_21 = pd.read_csv(cobra_21_path)\n",
    "weather_data = pd.read_csv(weather_data_path)\n",
    "county_cases = pd.read_csv(county_cases_path)"
   ]
  },
  {
   "cell_type": "code",
   "execution_count": null,
   "id": "de6370a7",
   "metadata": {},
   "outputs": [],
   "source": [
    "cobra_09.columns = ['offense_id','rpt_date','occur_date','occur_time','poss_date','poss_time','beat','apt_office_prefix', 'apt_office_num', 'location', 'shift_occurence','location_type','UC2_Literal','UC2#','ibr_code','neighborhood','npu','lat','long']\n",
    "cobra_09 = cobra_09.drop(columns = ['apt_office_prefix','apt_office_num','shift_occurence','location_type','UC2#', 'poss_date'])\n",
    "cobra_09"
   ]
  },
  {
   "cell_type": "code",
   "execution_count": null,
   "id": "12123863",
   "metadata": {},
   "outputs": [],
   "source": [
    "cobra_09['rpt_date']= pd.to_datetime(cobra_09['rpt_date'])\n",
    "cobra_09['occur_date']= pd.to_datetime(cobra_09['occur_date'])\n",
    "cobra_09['rpt_date'] = cobra_09['rpt_date'].dt.strftime(\"%m/%d/%Y\")\n",
    "cobra_09['occur_date'] = cobra_09['occur_date'].dt.strftime(\"%m/%d/%Y\")\n",
    "cobra_09.head()"
   ]
  },
  {
   "cell_type": "code",
   "execution_count": null,
   "id": "82e3269d",
   "metadata": {},
   "outputs": [],
   "source": [
    "cobra_09.insert(3,'occur_year',cobra_09['occur_date'].str[-4:])\n",
    "cobra_09_delete = cobra_09.loc[cobra_09['occur_year'].str[:2] != '20']\n",
    "cobra_09_delete_list = cobra_09_delete['offense_id'].to_list()\n",
    "cobra_09 = cobra_09[~cobra_09['offense_id'].isin(cobra_09_delete_list)]\n",
    "cobra_09"
   ]
  },
  {
   "cell_type": "code",
   "execution_count": null,
   "id": "c5f0274d",
   "metadata": {},
   "outputs": [],
   "source": [
    "cobra_20_Old.columns = ['offense_id','rpt_date','occur_date','occur_time','poss_date','poss_time','beat','apt_office_prefix', 'apt_office_num', 'location', 'shift_occurence','location_type','UC2_Literal','UC2#','neighborhood','npu','lat','long']\n",
    "cobra_20_Old = cobra_20_Old.drop(columns = ['apt_office_prefix','apt_office_num','shift_occurence','location_type','UC2#', 'poss_date'])\n",
    "cobra_20_Old"
   ]
  },
  {
   "cell_type": "code",
   "execution_count": null,
   "id": "1d651008",
   "metadata": {},
   "outputs": [],
   "source": [
    "cobra_20_Old['rpt_date']= pd.to_datetime(cobra_20_Old['rpt_date'])\n",
    "cobra_20_Old['occur_date']= pd.to_datetime(cobra_20_Old['occur_date'])\n",
    "cobra_20_Old['rpt_date'] = cobra_20_Old['rpt_date'].dt.strftime(\"%m/%d/%Y\")\n",
    "cobra_20_Old['occur_date'] = cobra_20_Old['occur_date'].dt.strftime(\"%m/%d/%Y\")\n",
    "cobra_20_Old.head()"
   ]
  },
  {
   "cell_type": "code",
   "execution_count": null,
   "id": "b19058db",
   "metadata": {},
   "outputs": [],
   "source": [
    "cobra_20_Old.insert(3,'occur_year',cobra_20_Old['occur_date'].str[-4:])\n",
    "cobra_20_Old_delete = cobra_20_Old.loc[cobra_20_Old['occur_year'].str[:2] != '20']\n",
    "cobra_20_Old_delete_list = cobra_20_Old_delete['offense_id'].to_list()\n",
    "cobra_20_Old = cobra_20_Old[~cobra_20_Old['offense_id'].isin(cobra_20_Old_delete_list)]\n",
    "cobra_20_Old"
   ]
  },
  {
   "cell_type": "code",
   "execution_count": null,
   "id": "cb68edf0",
   "metadata": {},
   "outputs": [],
   "source": [
    "cobra_20 = cobra_20.drop(columns = ['apt_office_prefix','apt_office_num','MinOfucr','dispo_code','Shift','loc_type', 'poss_date'])\n",
    "cobra_20_reorder = ['offense_id','rpt_date','occur_date','occur_time','poss_time','beat','location','ibr_code','UC2_Literal','neighborhood','npu','lat','long']\n",
    "cobra_20_reordered = cobra_20.reindex(columns = cobra_20_reorder)\n",
    "cobra_20 = cobra_20_reordered.copy()"
   ]
  },
  {
   "cell_type": "code",
   "execution_count": null,
   "id": "57f3553c",
   "metadata": {},
   "outputs": [],
   "source": [
    "cobra_20.insert(3,'occur_year',cobra_20['occur_date'].str[-4:])\n",
    "cobra_20_delete = cobra_20.loc[cobra_20['occur_year'].str[:2] != '20']\n",
    "cobra_20_delete_list = cobra_20_delete['offense_id'].to_list()\n",
    "cobra_20 = cobra_20[~cobra_20['offense_id'].isin(cobra_20_delete_list)]\n",
    "cobra_20.head()"
   ]
  },
  {
   "cell_type": "code",
   "execution_count": null,
   "id": "2e6133d7",
   "metadata": {},
   "outputs": [],
   "source": [
    "cobra_20['rpt_date']= pd.to_datetime(cobra_20['rpt_date'])\n",
    "cobra_20['occur_date']= pd.to_datetime(cobra_20['occur_date'])\n",
    "cobra_20['rpt_date'] = cobra_20['rpt_date'].dt.strftime(\"%m/%d/%Y\")\n",
    "cobra_20['occur_date'] = cobra_20['occur_date'].dt.strftime(\"%m/%d/%Y\")\n",
    "cobra_20.head()"
   ]
  },
  {
   "cell_type": "code",
   "execution_count": null,
   "id": "220d2f28",
   "metadata": {},
   "outputs": [],
   "source": [
    "cobra_21 = cobra_21.drop(columns = ['occur_day','occur_day_num','occur_day_num','zone', 'poss_date'])\n",
    "cobra_21.head()"
   ]
  },
  {
   "cell_type": "code",
   "execution_count": null,
   "id": "636b8382",
   "metadata": {},
   "outputs": [],
   "source": [
    "cobra_21.insert(3,'occur_year',cobra_21['occur_date'].str[-4:])\n",
    "cobra_21_delete = cobra_21.loc[cobra_21['occur_year'].str[:2] != '20']\n",
    "cobra_21_delete_list = cobra_21_delete['offense_id'].to_list()\n",
    "cobra_21 = cobra_21[~cobra_21['offense_id'].isin(cobra_21_delete_list)]\n",
    "cobra_21"
   ]
  },
  {
   "cell_type": "code",
   "execution_count": null,
   "id": "77ef0779",
   "metadata": {},
   "outputs": [],
   "source": [
    "cobra_21['rpt_date']= pd.to_datetime(cobra_21['rpt_date'])\n",
    "cobra_21['occur_date']= pd.to_datetime(cobra_21['occur_date'])\n",
    "cobra_21['rpt_date'] = cobra_21['rpt_date'].dt.strftime(\"%m/%d/%Y\")\n",
    "cobra_21['occur_date'] = cobra_21['occur_date'].dt.strftime(\"%m/%d/%Y\")\n",
    "cobra_21.head()"
   ]
  },
  {
   "cell_type": "code",
   "execution_count": null,
   "id": "babd30fb",
   "metadata": {},
   "outputs": [],
   "source": [
    "concat_list = [cobra_09, cobra_20,cobra_20_Old, cobra_21]  # List of your dataframes\n",
    "crime_df_complete = pd.concat(concat_list)\n",
    "crime_df_complete.head()"
   ]
  },
  {
   "cell_type": "code",
   "execution_count": null,
   "id": "1f00fc24",
   "metadata": {},
   "outputs": [],
   "source": [
    "crime_df_complete.insert(4,'occur_month',crime_df_complete['occur_date'].str[:2])\n",
    "crime_df_complete.insert(5,'occur_day',crime_df_complete['occur_date'].str[3:5])\n",
    "crime_df_complete"
   ]
  },
  {
   "cell_type": "code",
   "execution_count": null,
   "id": "7981bfb7",
   "metadata": {},
   "outputs": [],
   "source": [
    "crime_df_complete[['occur_year','occur_month', 'occur_day']] = crime_df_complete[['occur_year','occur_month', 'occur_day']].apply(pd.to_numeric)"
   ]
  },
  {
   "cell_type": "code",
   "execution_count": null,
   "id": "25a46974",
   "metadata": {
    "scrolled": false
   },
   "outputs": [],
   "source": [
    "delete_dates = crime_df_complete.loc[((crime_df_complete['occur_year'] == 2021) & (crime_df_complete['occur_month'] > 9 )) | (crime_df_complete['occur_year'] < 2009)]\n",
    "delete_dates_list = delete_dates['offense_id'].tolist()"
   ]
  },
  {
   "cell_type": "code",
   "execution_count": null,
   "id": "0c025d1b",
   "metadata": {},
   "outputs": [],
   "source": [
    "crime_df_complete = crime_df_complete[~crime_df_complete['offense_id'].isin(delete_dates_list)]\n",
    "crime_df_complete"
   ]
  },
  {
   "cell_type": "code",
   "execution_count": null,
   "id": "a22418bc",
   "metadata": {},
   "outputs": [],
   "source": [
    "#Export dataframe to csv file\n",
    "crime_df_complete.to_csv(\"Crime Data.csv\")"
   ]
  },
  {
   "cell_type": "code",
   "execution_count": null,
   "id": "59226752",
   "metadata": {},
   "outputs": [],
   "source": [
    "crime_year_month = crime_df_complete.groupby(['occur_year', 'occur_month'], as_index = False).agg({'offense_id': ['count']})\n",
    "crime_year_month.columns = ['occur_year','occur_month','no._offenses']\n",
    "crime_year_month"
   ]
  },
  {
   "cell_type": "code",
   "execution_count": null,
   "id": "6eec17e0",
   "metadata": {},
   "outputs": [],
   "source": [
    "weather_data"
   ]
  },
  {
   "cell_type": "code",
   "execution_count": null,
   "id": "11481225",
   "metadata": {},
   "outputs": [],
   "source": [
    "weather_data['dt_iso'] = weather_data['dt_iso'].str[:10]\n",
    "weather_data.head()"
   ]
  },
  {
   "cell_type": "code",
   "execution_count": null,
   "id": "e982ceda",
   "metadata": {},
   "outputs": [],
   "source": [
    "weather_data['dt_iso'] = weather_data['dt_iso'].str[:10]\n",
    "weather_data['dt_iso']= pd.to_datetime(weather_data['dt_iso'])\n",
    "weather_data['dt_iso'] = weather_data['dt_iso'].dt.strftime(\"%m/%d/%Y\")\n",
    "weather_data.head()"
   ]
  },
  {
   "cell_type": "code",
   "execution_count": null,
   "id": "35a519c3",
   "metadata": {},
   "outputs": [],
   "source": [
    "weather_data.insert(2,'occur_year',weather_data['dt_iso'].str[-4:])\n",
    "weather_data.insert(3,'occur_month',weather_data['dt_iso'].str[:2])\n",
    "weather_data.insert(4,'occur_day',weather_data['dt_iso'].str[3:5])"
   ]
  },
  {
   "cell_type": "code",
   "execution_count": null,
   "id": "9a2971e7",
   "metadata": {},
   "outputs": [],
   "source": [
    "weather_data['rain_1h'] = weather_data['rain_1h'].fillna(0)\n",
    "weather_data['rain_3h'] = weather_data['rain_3h'].fillna(0)\n",
    "weather_data['snow_1h'] = weather_data['snow_1h'].fillna(0)\n",
    "weather_data['snow_3h'] = weather_data['snow_3h'].fillna(0)\n",
    "weather_data.head()"
   ]
  },
  {
   "cell_type": "code",
   "execution_count": null,
   "id": "4e04a68a",
   "metadata": {},
   "outputs": [],
   "source": [
    "atlanta_weather_data = weather_data[['occur_year','occur_month','temp','temp_min','temp_max','humidity','rain_1h','rain_3h','snow_1h','snow_3h']].copy()\n",
    "atlanta_weather_data"
   ]
  },
  {
   "cell_type": "code",
   "execution_count": null,
   "id": "d748f4a3",
   "metadata": {},
   "outputs": [],
   "source": [
    "agg_weather_data = atlanta_weather_data.groupby(['occur_year', 'occur_month'], as_index = False).agg({'temp': ['mean'],'temp_min': ['mean'],'temp_max': ['mean'],'humidity': ['mean'],'rain_1h': ['mean'],'rain_3h': ['mean'],'snow_1h': ['mean'],'snow_3h': ['mean']})\n",
    "agg_weather_data.columns = ['occur_year','occur_month','temp_mean','min_temp_mean','max_temp_mean','humidity_mean','rain_1h_mean','rain_3h_mean', 'snow_1h_mean', 'snow_3h_mean']\n",
    "agg_weather_data"
   ]
  },
  {
   "cell_type": "code",
   "execution_count": null,
   "id": "34ca28e5",
   "metadata": {},
   "outputs": [],
   "source": [
    "agg_weather_data[['occur_year', 'occur_month']] = agg_weather_data[['occur_year','occur_month']].apply(pd.to_numeric)"
   ]
  },
  {
   "cell_type": "code",
   "execution_count": null,
   "id": "54d31e04",
   "metadata": {},
   "outputs": [],
   "source": [
    "crime_with_weather = pd.merge(crime_year_month, agg_weather_data, how=\"left\", on=['occur_year','occur_month'])\n",
    "crime_with_weather"
   ]
  },
  {
   "cell_type": "code",
   "execution_count": null,
   "id": "b9306dae",
   "metadata": {},
   "outputs": [],
   "source": [
    "crime_scatter = crime_with_weather.iloc[:,2]\n",
    "temp_scatter = crime_with_weather.iloc[:,3]\n",
    "max_temp_scatter = crime_with_weather.iloc[:,5]\n",
    "min_temp_scatter = crime_with_weather.iloc[:,4]\n",
    "rain_scatter = crime_with_weather.iloc[:,7]\n",
    "snow_scatter = crime_with_weather.iloc[:,9]\n",
    "humidity_scatter = crime_with_weather.iloc[:,6]"
   ]
  },
  {
   "cell_type": "code",
   "execution_count": null,
   "id": "cbc65c8d",
   "metadata": {},
   "outputs": [],
   "source": [
    "(slope, intercept, rvalue, pvalue, stderr) = linregress(temp_scatter,crime_scatter)\n",
    "regress_values = temp_scatter * slope + intercept\n",
    "line_eq = \"y = \" + str(round(slope,2)) + \"x + \" + str(round(intercept,2))\n",
    "plt.scatter(temp_scatter,crime_scatter)\n",
    "plt.plot(temp_scatter,regress_values,\"r-\")\n",
    "plt.xlabel('Temperature')\n",
    "plt.ylabel('Reported Crime')\n",
    "plt.title('Crime vs Temperature')\n",
    "#plt.savefig('output_data/City Latitude vs Max Temperature.png')\n",
    "plt.show()\n",
    "print(f'The r-value is {rvalue}')"
   ]
  },
  {
   "cell_type": "code",
   "execution_count": null,
   "id": "98109532",
   "metadata": {},
   "outputs": [],
   "source": [
    "(slope, intercept, rvalue, pvalue, stderr) = linregress(max_temp_scatter,crime_scatter)\n",
    "regress_values = max_temp_scatter * slope + intercept\n",
    "line_eq = \"y = \" + str(round(slope,2)) + \"x + \" + str(round(intercept,2))\n",
    "plt.scatter(max_temp_scatter,crime_scatter)\n",
    "plt.plot(max_temp_scatter,regress_values,\"r-\")\n",
    "plt.xlabel('Max Temperature')\n",
    "plt.ylabel('Reported Crime')\n",
    "plt.title('Crime vs Max Temperature')\n",
    "#plt.savefig('output_data/City Latitude vs Max Temperature.png')\n",
    "plt.show()\n",
    "print(f'The r-value is {rvalue}')"
   ]
  },
  {
   "cell_type": "code",
   "execution_count": null,
   "id": "7ad36216",
   "metadata": {},
   "outputs": [],
   "source": [
    "(slope, intercept, rvalue, pvalue, stderr) = linregress(min_temp_scatter,crime_scatter)\n",
    "regress_values = min_temp_scatter * slope + intercept\n",
    "line_eq = \"y = \" + str(round(slope,2)) + \"x + \" + str(round(intercept,2))\n",
    "plt.scatter(min_temp_scatter,crime_scatter)\n",
    "plt.plot(min_temp_scatter,regress_values,\"r-\")\n",
    "plt.xlabel('Min Temperature')\n",
    "plt.ylabel('Reported Crime')\n",
    "plt.title('Crime vs Min Temperature')\n",
    "#plt.savefig('output_data/City Latitude vs Max Temperature.png')\n",
    "plt.show()\n",
    "print(f'The r-value is {rvalue}')"
   ]
  },
  {
   "cell_type": "code",
   "execution_count": null,
   "id": "2fd11917",
   "metadata": {},
   "outputs": [],
   "source": [
    "(slope, intercept, rvalue, pvalue, stderr) = linregress(rain_scatter,crime_scatter)\n",
    "regress_values = rain_scatter * slope + intercept\n",
    "line_eq = \"y = \" + str(round(slope,2)) + \"x + \" + str(round(intercept,2))\n",
    "plt.scatter(rain_scatter,crime_scatter)\n",
    "plt.plot(rain_scatter,regress_values,\"r-\")\n",
    "plt.xlabel('Rainfall')\n",
    "plt.ylabel('Reported Crime')\n",
    "plt.title('Crime vs Rain')\n",
    "#plt.savefig('output_data/City Latitude vs Max Temperature.png')\n",
    "plt.show()\n",
    "print(f'The r-value is {rvalue}')"
   ]
  },
  {
   "cell_type": "code",
   "execution_count": null,
   "id": "ff2bf262",
   "metadata": {},
   "outputs": [],
   "source": [
    "(slope, intercept, rvalue, pvalue, stderr) = linregress(snow_scatter,crime_scatter)\n",
    "regress_values = snow_scatter * slope + intercept\n",
    "line_eq = \"y = \" + str(round(slope,2)) + \"x + \" + str(round(intercept,2))\n",
    "plt.scatter(snow_scatter,crime_scatter)\n",
    "plt.plot(snow_scatter,regress_values,\"r-\")\n",
    "plt.xlabel('Snow')\n",
    "plt.ylabel('Reported Crime')\n",
    "plt.title('Crime vs Snow')\n",
    "#plt.savefig('output_data/City Latitude vs Max Temperature.png')\n",
    "plt.show()\n",
    "print(f'The r-value is {rvalue}')"
   ]
  },
  {
   "cell_type": "code",
   "execution_count": null,
   "id": "abe574b4",
   "metadata": {},
   "outputs": [],
   "source": [
    "(slope, intercept, rvalue, pvalue, stderr) = linregress(humidity_scatter,crime_scatter)\n",
    "regress_values = humidity_scatter * slope + intercept\n",
    "line_eq = \"y = \" + str(round(slope,2)) + \"x + \" + str(round(intercept,2))\n",
    "plt.scatter(humidity_scatter,crime_scatter)\n",
    "plt.plot(humidity_scatter,regress_values,\"r-\")\n",
    "plt.xlabel('Humidity')\n",
    "plt.ylabel('Reported Crime')\n",
    "plt.title('Crime vs Humidity')\n",
    "#plt.savefig('output_data/City Latitude vs Max Temperature.png')\n",
    "plt.show()\n",
    "print(f'The r-value is {rvalue}')"
   ]
  },
  {
   "cell_type": "code",
   "execution_count": null,
   "id": "211a35ec",
   "metadata": {},
   "outputs": [],
   "source": [
    "county_cases.columns = ['County Name','Cases','County ID','State FIPS Code','County FIPS Code','Population','Hospitalization','Deaths', 'Case Rate', 'Death Rate', '14 Day Case Rate','14 Day Cases','Antigen Cases','Probable Deaths']\n",
    "county_cases.head()"
   ]
  },
  {
   "cell_type": "code",
   "execution_count": null,
   "id": "ecfa09c5",
   "metadata": {},
   "outputs": [],
   "source": []
  }
 ],
 "metadata": {
  "kernelspec": {
   "display_name": "Python 3 (ipykernel)",
   "language": "python",
   "name": "python3"
  },
  "language_info": {
   "codemirror_mode": {
    "name": "ipython",
    "version": 3
   },
   "file_extension": ".py",
   "mimetype": "text/x-python",
   "name": "python",
   "nbconvert_exporter": "python",
   "pygments_lexer": "ipython3",
   "version": "3.8.5"
  }
 },
 "nbformat": 4,
 "nbformat_minor": 5
}
